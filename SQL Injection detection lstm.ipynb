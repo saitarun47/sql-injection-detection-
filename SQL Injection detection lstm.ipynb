{
 "cells": [
  {
   "cell_type": "code",
   "execution_count": 6,
   "id": "9a80cd3e",
   "metadata": {},
   "outputs": [
    {
     "name": "stderr",
     "output_type": "stream",
     "text": [
      "[nltk_data] Downloading package punkt_tab to\n",
      "[nltk_data]     C:\\Users\\tanuj\\AppData\\Roaming\\nltk_data...\n",
      "[nltk_data]   Package punkt_tab is already up-to-date!\n"
     ]
    }
   ],
   "source": [
    "import pandas as pd\n",
    "import numpy as np\n",
    "import nltk\n",
    "nltk.download('punkt_tab')\n",
    "from nltk.tokenize import word_tokenize\n",
    "from sklearn.model_selection import train_test_split\n",
    "import torch\n",
    "import torch.nn as nn\n",
    "from torch.utils.data import DataLoader, Dataset\n",
    "from sklearn.metrics import accuracy_score, classification_report, confusion_matrix"
   ]
  },
  {
   "cell_type": "code",
   "execution_count": 245,
   "id": "e140c871",
   "metadata": {},
   "outputs": [
    {
     "name": "stdout",
     "output_type": "stream",
     "text": [
      "Using device: cuda\n"
     ]
    }
   ],
   "source": [
    "device = torch.device('cuda' if torch.cuda.is_available() else 'cpu')\n",
    "print(f\"Using device: {device}\")"
   ]
  },
  {
   "cell_type": "code",
   "execution_count": 246,
   "id": "9eeec20a",
   "metadata": {},
   "outputs": [],
   "source": [
    "# seeding\n",
    "import random\n",
    "SEED = 42\n",
    "random.seed(SEED)\n",
    "np.random.seed(SEED)\n",
    "torch.manual_seed(SEED)\n",
    "torch.cuda.manual_seed(SEED)\n",
    "torch.backends.cudnn.deterministic = True\n",
    "torch.backends.cudnn.benchmark = False"
   ]
  },
  {
   "cell_type": "code",
   "execution_count": 247,
   "id": "6d5e73fd",
   "metadata": {},
   "outputs": [],
   "source": [
    "df = pd.read_csv(\"sqli.csv\", encoding='utf-16')"
   ]
  },
  {
   "cell_type": "code",
   "execution_count": 248,
   "id": "c989b627",
   "metadata": {},
   "outputs": [
    {
     "data": {
      "text/html": [
       "<div>\n",
       "<style scoped>\n",
       "    .dataframe tbody tr th:only-of-type {\n",
       "        vertical-align: middle;\n",
       "    }\n",
       "\n",
       "    .dataframe tbody tr th {\n",
       "        vertical-align: top;\n",
       "    }\n",
       "\n",
       "    .dataframe thead th {\n",
       "        text-align: right;\n",
       "    }\n",
       "</style>\n",
       "<table border=\"1\" class=\"dataframe\">\n",
       "  <thead>\n",
       "    <tr style=\"text-align: right;\">\n",
       "      <th></th>\n",
       "      <th>Sentence</th>\n",
       "      <th>Label</th>\n",
       "    </tr>\n",
       "  </thead>\n",
       "  <tbody>\n",
       "    <tr>\n",
       "      <th>0</th>\n",
       "      <td>select * from users where id = 1 or  ( \\ )  =...</td>\n",
       "      <td>1</td>\n",
       "    </tr>\n",
       "    <tr>\n",
       "      <th>1</th>\n",
       "      <td>select * from users where id = 1 or  ( \\. )  ...</td>\n",
       "      <td>1</td>\n",
       "    </tr>\n",
       "    <tr>\n",
       "      <th>2</th>\n",
       "      <td>select * from users where id = 1 or  ( \\+ )  ...</td>\n",
       "      <td>1</td>\n",
       "    </tr>\n",
       "    <tr>\n",
       "      <th>3</th>\n",
       "      <td>select * from users where id = 1 or  ( 1 )  =...</td>\n",
       "      <td>1</td>\n",
       "    </tr>\n",
       "    <tr>\n",
       "      <th>4</th>\n",
       "      <td>select * from users where id = 1 or  ( \\+ )  ...</td>\n",
       "      <td>1</td>\n",
       "    </tr>\n",
       "  </tbody>\n",
       "</table>\n",
       "</div>"
      ],
      "text/plain": [
       "                                            Sentence  Label\n",
       "0   select * from users where id = 1 or  ( \\ )  =...      1\n",
       "1   select * from users where id = 1 or  ( \\. )  ...      1\n",
       "2   select * from users where id = 1 or  ( \\+ )  ...      1\n",
       "3   select * from users where id = 1 or  ( 1 )  =...      1\n",
       "4   select * from users where id = 1 or  ( \\+ )  ...      1"
      ]
     },
     "execution_count": 248,
     "metadata": {},
     "output_type": "execute_result"
    }
   ],
   "source": [
    "df.head()"
   ]
  },
  {
   "cell_type": "code",
   "execution_count": 249,
   "id": "c4b447fd",
   "metadata": {},
   "outputs": [
    {
     "data": {
      "text/plain": [
       "Sentence    379\n",
       "Label         0\n",
       "dtype: int64"
      ]
     },
     "execution_count": 249,
     "metadata": {},
     "output_type": "execute_result"
    }
   ],
   "source": [
    "df.isnull().sum()"
   ]
  },
  {
   "cell_type": "code",
   "execution_count": 250,
   "id": "78a8a4fe",
   "metadata": {},
   "outputs": [
    {
     "name": "stdout",
     "output_type": "stream",
     "text": [
      "<class 'pandas.core.frame.DataFrame'>\n",
      "RangeIndex: 5437 entries, 0 to 5436\n",
      "Data columns (total 2 columns):\n",
      " #   Column    Non-Null Count  Dtype \n",
      "---  ------    --------------  ----- \n",
      " 0   Sentence  5058 non-null   object\n",
      " 1   Label     5437 non-null   int64 \n",
      "dtypes: int64(1), object(1)\n",
      "memory usage: 85.1+ KB\n"
     ]
    }
   ],
   "source": [
    "df.info()"
   ]
  },
  {
   "cell_type": "code",
   "execution_count": 251,
   "id": "7d273f07",
   "metadata": {},
   "outputs": [],
   "source": [
    "df = df.dropna()"
   ]
  },
  {
   "cell_type": "code",
   "execution_count": 252,
   "id": "821feb35",
   "metadata": {},
   "outputs": [],
   "source": [
    "texts = df['Sentence'].astype(str).tolist()\n",
    "labels = df['Label'].tolist()"
   ]
  },
  {
   "cell_type": "markdown",
   "id": "1ae48e67",
   "metadata": {},
   "source": [
    "# Tokenization and vocabulary"
   ]
  },
  {
   "cell_type": "code",
   "execution_count": 253,
   "id": "ee2feaf3",
   "metadata": {},
   "outputs": [],
   "source": [
    "# Tokenization\n",
    "def tokenize(text):\n",
    "    return word_tokenize(text.lower())\n",
    "\n",
    "# vocabulary\n",
    "word_freq = {}\n",
    "for text in texts:\n",
    "    for word in tokenize(text):\n",
    "        word_freq[word] = word_freq.get(word, 0) + 1"
   ]
  },
  {
   "cell_type": "code",
   "execution_count": 254,
   "id": "49e1e2bf",
   "metadata": {},
   "outputs": [],
   "source": [
    "# word-to-index mapping\n",
    "vocab = {word: idx + 2 for idx, (word, _) in enumerate(word_freq.items())}\n",
    "vocab['<pad>'] = 0\n",
    "vocab['<unk>'] = 1\n",
    "pad_idx = vocab['<pad>']\n",
    "unk_idx = vocab['<unk>']\n",
    "vocab_size = len(vocab)"
   ]
  },
  {
   "cell_type": "markdown",
   "id": "585527ee",
   "metadata": {},
   "source": [
    "# Padding"
   ]
  },
  {
   "cell_type": "code",
   "execution_count": 255,
   "id": "8ea267e8",
   "metadata": {},
   "outputs": [],
   "source": [
    "# pad sequences\n",
    "def encode_and_pad(text, vocab, tokenizer, max_len):\n",
    "    tokens = tokenizer(text)\n",
    "    ids = [vocab.get(token, unk_idx) for token in tokens]\n",
    "    if len(ids) < max_len:\n",
    "        ids = ids + [pad_idx] * (max_len - len(ids))\n",
    "    else:\n",
    "        ids = ids[:max_len]\n",
    "    return ids"
   ]
  },
  {
   "cell_type": "code",
   "execution_count": 256,
   "id": "c2f53c2c",
   "metadata": {},
   "outputs": [],
   "source": [
    "lengths = [len(tokenize(text)) for text in texts]\n",
    "max_len = int(np.percentile(lengths, 95))\n",
    "\n",
    "encoded = [encode_and_pad(t, vocab, tokenize, max_len) for t in texts]"
   ]
  },
  {
   "cell_type": "markdown",
   "id": "bee5c9a4",
   "metadata": {},
   "source": [
    "# Train test split"
   ]
  },
  {
   "cell_type": "code",
   "execution_count": 257,
   "id": "7d91a285",
   "metadata": {},
   "outputs": [],
   "source": [
    "from sklearn.model_selection import train_test_split\n",
    "X_train, X_test, y_train, y_test = train_test_split(\n",
    "    encoded, labels,\n",
    "    test_size=0.3,\n",
    "    stratify=labels,\n",
    "    random_state=42,\n",
    "    shuffle=True\n",
    ")"
   ]
  },
  {
   "cell_type": "markdown",
   "id": "c35a96a7",
   "metadata": {},
   "source": [
    "# Dataset (pytorch)"
   ]
  },
  {
   "cell_type": "code",
   "execution_count": 258,
   "id": "92cbc2aa",
   "metadata": {},
   "outputs": [],
   "source": [
    "torch_labels_train = torch.tensor(y_train, dtype=torch.float)\n",
    "torch_labels_test = torch.tensor(y_test, dtype=torch.float)\n",
    "\n",
    "class TextDataset(Dataset):\n",
    "    def __init__(self, texts, labels):\n",
    "        self.texts = texts\n",
    "        self.labels = labels\n",
    "\n",
    "    def __len__(self):\n",
    "        return len(self.labels)\n",
    "\n",
    "    def __getitem__(self, idx):\n",
    "        text = torch.tensor(self.texts[idx], dtype=torch.long)\n",
    "        label = self.labels[idx]\n",
    "        return text, label\n",
    "\n",
    "train_dataset = TextDataset(X_train, torch_labels_train)\n",
    "test_dataset = TextDataset(X_test, torch_labels_test)\n",
    "batch_size = 64\n",
    "train_loader = DataLoader(train_dataset, batch_size=batch_size, shuffle=True)\n",
    "test_loader = DataLoader(test_dataset, batch_size=batch_size)"
   ]
  },
  {
   "cell_type": "markdown",
   "id": "ab0d651b",
   "metadata": {},
   "source": [
    "#  LSTM model"
   ]
  },
  {
   "cell_type": "code",
   "execution_count": 259,
   "id": "9936205f",
   "metadata": {},
   "outputs": [],
   "source": [
    "class LSTMClassifier(nn.Module):\n",
    "    def __init__(self, vocab_size, embed_dim, hidden_dim, output_dim=1, dropout=0.5, padding_idx=0):\n",
    "        super(LSTMClassifier, self).__init__()\n",
    "        self.embedding = nn.Embedding(vocab_size, embed_dim, padding_idx=padding_idx)\n",
    "        self.lstm = nn.LSTM(\n",
    "            input_size=embed_dim,\n",
    "            hidden_size=hidden_dim,\n",
    "            num_layers=2,\n",
    "            batch_first=True,\n",
    "            dropout=dropout\n",
    "        )\n",
    "        self.fc = nn.Linear(hidden_dim , output_dim)\n",
    "        self.dropout = nn.Dropout(dropout)\n",
    "\n",
    "    def forward(self, x):\n",
    "        embedded = self.embedding(x)\n",
    "        lstm_out, _ = self.lstm(embedded)\n",
    "        last_out = lstm_out[:, -1, :]\n",
    "        out = self.dropout(last_out)\n",
    "        logits = self.fc(out).squeeze(1)\n",
    "        return logits"
   ]
  },
  {
   "cell_type": "markdown",
   "id": "1c2d0fb0",
   "metadata": {},
   "source": [
    "# Training "
   ]
  },
  {
   "cell_type": "code",
   "execution_count": 260,
   "id": "4456c50d",
   "metadata": {},
   "outputs": [
    {
     "name": "stdout",
     "output_type": "stream",
     "text": [
      "Epoch 0/50 – Train Loss: 0.6976, Train Acc: 0.4277\n",
      "Epoch 1/50 – Train Loss: 0.6399, Train Acc: 0.7469\n",
      "Epoch 2/50 – Train Loss: 0.5169, Train Acc: 0.7556\n",
      "Epoch 3/50 – Train Loss: 0.4491, Train Acc: 0.7966\n",
      "Epoch 4/50 – Train Loss: 0.3103, Train Acc: 0.8946\n",
      "Epoch 5/50 – Train Loss: 0.2175, Train Acc: 0.9562\n",
      "Epoch 6/50 – Train Loss: 0.1821, Train Acc: 0.9644\n",
      "Epoch 7/50 – Train Loss: 0.1578, Train Acc: 0.9695\n",
      "Epoch 8/50 – Train Loss: 0.1485, Train Acc: 0.9712\n",
      "Epoch 9/50 – Train Loss: 0.1351, Train Acc: 0.9734\n",
      "Epoch 10/50 – Train Loss: 0.1323, Train Acc: 0.9740\n",
      "Epoch 11/50 – Train Loss: 0.1294, Train Acc: 0.9743\n",
      "Epoch 12/50 – Train Loss: 0.1254, Train Acc: 0.9751\n",
      "Epoch 13/50 – Train Loss: 0.1234, Train Acc: 0.9751\n",
      "Epoch 14/50 – Train Loss: 0.1185, Train Acc: 0.9757\n",
      "Epoch 15/50 – Train Loss: 0.1194, Train Acc: 0.9754\n",
      "Epoch 16/50 – Train Loss: 0.1151, Train Acc: 0.9763\n",
      "No improvement in val loss for 2 epochs. Stopping early.\n"
     ]
    }
   ],
   "source": [
    "# Hyperparameters\n",
    "embed_dim = 100\n",
    "hidden_dim = 64\n",
    "num_epochs = 50\n",
    "learning_rate = 0.0001\n",
    "\n",
    "# Early stopping settings\n",
    "patience = 2    # how many epochs to wait after last time validation loss improved\n",
    "best_val_loss = float('inf')\n",
    "epochs_no_improve = 0\n",
    "\n",
    "model = LSTMClassifier(vocab_size, embed_dim, hidden_dim, padding_idx=pad_idx).to(device)\n",
    "criterion = nn.BCEWithLogitsLoss()\n",
    "optimizer = torch.optim.Adam(model.parameters(), lr=learning_rate,weight_decay=1e-5)\n",
    "\n",
    "train_losses = []\n",
    "val_losses   = []\n",
    "\n",
    "# Training loop\n",
    "for epoch in range(num_epochs):\n",
    "    model.train()\n",
    "    running_train_loss = 0.0\n",
    "    train_preds, train_labels  = [], []\n",
    "\n",
    "    for texts_batch, labels_batch in train_loader:\n",
    "        texts_batch = texts_batch.to(device)\n",
    "        labels_batch = labels_batch.to(device)\n",
    "\n",
    "        optimizer.zero_grad()\n",
    "        outputs = model(texts_batch)\n",
    "        loss = criterion(outputs, labels_batch)\n",
    "        loss.backward()\n",
    "        optimizer.step()\n",
    "\n",
    "        running_train_loss += loss.item()\n",
    "        preds = torch.sigmoid(outputs).round().cpu().detach().numpy()\n",
    "        train_preds.extend(preds)\n",
    "        train_labels.extend(labels_batch.cpu().numpy())\n",
    "        \n",
    "    avg_train_loss = running_train_loss / len(train_loader)\n",
    "    train_losses.append(avg_train_loss)\n",
    "\n",
    "    train_acc = accuracy_score(train_labels, train_preds)\n",
    "    print(\n",
    "    f\"Epoch {epoch}/{num_epochs} – \"\n",
    "    f\"Train Loss: {avg_train_loss:.4f}, \"\n",
    "    f\"Train Acc: {train_acc:.4f}\"\n",
    "    )\n",
    "    \n",
    "    #evaluation\n",
    "    model.eval()\n",
    "    running_val_loss = 0.0\n",
    "    val_preds, val_labels  = [], []\n",
    "    with torch.no_grad():\n",
    "        for texts_batch, labels_batch in test_loader:\n",
    "            texts_batch = texts_batch.to(device)\n",
    "            labels_batch = labels_batch.to(device)\n",
    "            outputs = model(texts_batch)\n",
    "            loss    = criterion(outputs, labels_batch)\n",
    "            running_val_loss += loss.item()\n",
    "\n",
    "            preds = torch.sigmoid(outputs).round().cpu().numpy()\n",
    "            val_preds.extend(preds)\n",
    "            val_labels .extend(labels_batch.cpu().numpy())\n",
    "\n",
    "        avg_val_loss = running_val_loss / len(test_loader)\n",
    "        val_losses.append(avg_val_loss)\n",
    "        \n",
    "    # ——— Early stopping check ———\n",
    "    if avg_val_loss < best_val_loss:\n",
    "        best_val_loss = avg_val_loss\n",
    "        epochs_no_improve = 0\n",
    "        # Optional: save the best model weights\n",
    "        torch.save(model.state_dict(), \"best_model.pt\")\n",
    "    else:\n",
    "        epochs_no_improve += 1\n",
    "        if epochs_no_improve >= patience:\n",
    "            print(f\"No improvement in val loss for {patience} epochs. Stopping early.\")\n",
    "            break\n"
   ]
  },
  {
   "cell_type": "code",
   "execution_count": 261,
   "id": "6c3729ed",
   "metadata": {},
   "outputs": [
    {
     "name": "stdout",
     "output_type": "stream",
     "text": [
      "Test Accuracy: 0.9671\n",
      "Classification Report:\n",
      "              precision    recall  f1-score   support\n",
      "\n",
      "         0.0       0.97      0.99      0.98      1143\n",
      "         1.0       0.96      0.90      0.93       375\n",
      "\n",
      "    accuracy                           0.97      1518\n",
      "   macro avg       0.97      0.94      0.95      1518\n",
      "weighted avg       0.97      0.97      0.97      1518\n",
      "\n",
      "Confusion Matrix:\n",
      "[[1130   13]\n",
      " [  37  338]]\n"
     ]
    }
   ],
   "source": [
    "print(f\"Test Accuracy: {accuracy_score(val_labels, val_preds):.4f}\")\n",
    "print(\"Classification Report:\")\n",
    "print(classification_report(val_labels, val_preds))\n",
    "print(\"Confusion Matrix:\")\n",
    "print(confusion_matrix(val_labels, val_preds))\n"
   ]
  },
  {
   "cell_type": "markdown",
   "id": "718f1667",
   "metadata": {},
   "source": [
    "# Training accuracy"
   ]
  },
  {
   "cell_type": "code",
   "execution_count": 262,
   "id": "8ecd98be",
   "metadata": {},
   "outputs": [
    {
     "name": "stdout",
     "output_type": "stream",
     "text": [
      "Train Accuracy: 0.9768\n"
     ]
    }
   ],
   "source": [
    "model.eval()\n",
    "train_preds, train_labels = [], []\n",
    "with torch.no_grad():\n",
    "    for texts_batch, labels_batch in train_loader:\n",
    "        texts_batch = texts_batch.to(device)\n",
    "        labels_batch = labels_batch.to(device)\n",
    "        outputs = model(texts_batch)\n",
    "        preds = torch.sigmoid(outputs).round().cpu().numpy()\n",
    "        train_preds.extend(preds)\n",
    "        train_labels.extend(labels_batch.cpu().numpy())\n",
    "\n",
    "from sklearn.metrics import accuracy_score\n",
    "final_train_acc = accuracy_score(train_labels, train_preds)\n",
    "print(f\"Train Accuracy: {final_train_acc:.4f}\")"
   ]
  },
  {
   "cell_type": "markdown",
   "id": "822c4701",
   "metadata": {},
   "source": [
    "# Loss curves"
   ]
  },
  {
   "cell_type": "code",
   "execution_count": 263,
   "id": "cf874d20",
   "metadata": {},
   "outputs": [
    {
     "data": {
      "image/png": "[encoded data removed]",
      "text/plain": [
       "<Figure size 800x500 with 1 Axes>"
      ]
     },
     "metadata": {},
     "output_type": "display_data"
    }
   ],
   "source": [
    "import matplotlib.pyplot as plt\n",
    "plt.figure(figsize=(8,5))\n",
    "plt.plot(train_losses, label=\"Train Loss\")\n",
    "plt.plot(val_losses, label=\"Validation Loss\")\n",
    "plt.xlabel(\"Epoch\")\n",
    "plt.ylabel(\"Loss (MSE)\")\n",
    "plt.title(\"Training and Validation Loss\")\n",
    "plt.legend()\n",
    "plt.grid(True)\n",
    "plt.tight_layout()\n",
    "plt.show()\n"
   ]
  }
 ],
 "metadata": {
  "kernelspec": {
   "display_name": "Python (cuda_env)",
   "language": "python",
   "name": "cuda_env"
  },
  "language_info": {
   "codemirror_mode": {
    "name": "ipython",
    "version": 3
   },
   "file_extension": ".py",
   "mimetype": "text/x-python",
   "name": "python",
   "nbconvert_exporter": "python",
   "pygments_lexer": "ipython3",
   "version": "3.11.11"
  }
 },
 "nbformat": 4,
 "nbformat_minor": 5
}
